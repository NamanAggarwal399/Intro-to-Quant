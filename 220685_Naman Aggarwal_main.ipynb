{
 "cells": [
  {
   "cell_type": "code",
   "execution_count": 39,
   "id": "600a4ecd",
   "metadata": {},
   "outputs": [],
   "source": [
    "import numpy as np\n",
    "import pandas as pd\n",
    "import yfinance as yf"
   ]
  },
  {
   "cell_type": "code",
   "execution_count": 40,
   "id": "8fb75da3",
   "metadata": {},
   "outputs": [],
   "source": [
    "v= yf.Ticker('V').history(period='5mo')"
   ]
  },
  {
   "cell_type": "code",
   "execution_count": 41,
   "id": "e20c3683",
   "metadata": {},
   "outputs": [],
   "source": [
    "closing_prices_v= v.Close"
   ]
  },
  {
   "cell_type": "code",
   "execution_count": 42,
   "id": "ed0bdf52",
   "metadata": {},
   "outputs": [],
   "source": [
    "from statsmodels.tsa.stattools import adfuller"
   ]
  },
  {
   "cell_type": "code",
   "execution_count": 43,
   "id": "b1f368b7",
   "metadata": {},
   "outputs": [],
   "source": [
    "jnj= yf.Ticker('JNJ').history(period='5mo')"
   ]
  },
  {
   "cell_type": "code",
   "execution_count": 44,
   "id": "41ce710d",
   "metadata": {},
   "outputs": [],
   "source": [
    "closing_prices_jnj= jnj.Close"
   ]
  },
  {
   "cell_type": "code",
   "execution_count": 45,
   "id": "04da64bc",
   "metadata": {},
   "outputs": [],
   "source": [
    "ratio1= closing_prices_v/closing_prices_jnj"
   ]
  },
  {
   "cell_type": "code",
   "execution_count": 46,
   "id": "beed2a0f",
   "metadata": {},
   "outputs": [
    {
     "data": {
      "text/plain": [
       "(-2.9723260924542156,\n",
       " 0.03756086730532807,\n",
       " 0,\n",
       " 104,\n",
       " {'1%': -3.4948504603223145,\n",
       "  '5%': -2.889758398668639,\n",
       "  '10%': -2.5818220155325444},\n",
       " -477.4653069251242)"
      ]
     },
     "execution_count": 46,
     "metadata": {},
     "output_type": "execute_result"
    }
   ],
   "source": [
    "adfuller(ratio1)"
   ]
  },
  {
   "cell_type": "code",
   "execution_count": 47,
   "id": "daf09068",
   "metadata": {},
   "outputs": [],
   "source": [
    "ratio2= closing_prices_jnj/closing_prices_v"
   ]
  },
  {
   "cell_type": "code",
   "execution_count": 48,
   "id": "07c90302",
   "metadata": {},
   "outputs": [
    {
     "data": {
      "text/plain": [
       "(-3.311263388636257,\n",
       " 0.014382446798628504,\n",
       " 0,\n",
       " 104,\n",
       " {'1%': -3.4948504603223145,\n",
       "  '5%': -2.889758398668639,\n",
       "  '10%': -2.5818220155325444},\n",
       " -605.7065929687179)"
      ]
     },
     "execution_count": 48,
     "metadata": {},
     "output_type": "execute_result"
    }
   ],
   "source": [
    "adfuller(ratio2)"
   ]
  },
  {
   "cell_type": "code",
   "execution_count": 49,
   "id": "8ff49f0e",
   "metadata": {},
   "outputs": [
    {
     "name": "stdout",
     "output_type": "stream",
     "text": [
      "Ratio is Stationary\n"
     ]
    }
   ],
   "source": [
    "print('Ratio is Stationary')"
   ]
  },
  {
   "cell_type": "code",
   "execution_count": 50,
   "id": "e9b79f9f",
   "metadata": {},
   "outputs": [],
   "source": [
    "aapl= yf.Ticker('AAPL').history(period='5mo')"
   ]
  },
  {
   "cell_type": "code",
   "execution_count": 51,
   "id": "91879f08",
   "metadata": {},
   "outputs": [],
   "source": [
    "closing_prices_aapl= aapl.Close"
   ]
  },
  {
   "cell_type": "code",
   "execution_count": 52,
   "id": "b7ad0ac6",
   "metadata": {},
   "outputs": [],
   "source": [
    "googl= yf.Ticker('GOOGL').history(period='5mo')"
   ]
  },
  {
   "cell_type": "code",
   "execution_count": 53,
   "id": "ef605750",
   "metadata": {},
   "outputs": [],
   "source": [
    "closing_prices_googl = googl.Close"
   ]
  },
  {
   "cell_type": "code",
   "execution_count": 54,
   "id": "17be29f1",
   "metadata": {},
   "outputs": [],
   "source": [
    "ratio= closing_prices_aapl/closing_prices_googl"
   ]
  },
  {
   "cell_type": "code",
   "execution_count": 55,
   "id": "6d63de6c",
   "metadata": {},
   "outputs": [
    {
     "data": {
      "text/plain": [
       "(-1.7880658100563864,\n",
       " 0.38640257726253613,\n",
       " 1,\n",
       " 103,\n",
       " {'1%': -3.4954932834550623,\n",
       "  '5%': -2.8900369024285117,\n",
       "  '10%': -2.5819706975209726},\n",
       " -398.060750374034)"
      ]
     },
     "execution_count": 55,
     "metadata": {},
     "output_type": "execute_result"
    }
   ],
   "source": [
    "adfuller(ratio)"
   ]
  },
  {
   "cell_type": "code",
   "execution_count": 56,
   "id": "717f6008",
   "metadata": {},
   "outputs": [
    {
     "name": "stdout",
     "output_type": "stream",
     "text": [
      "Ratio is Non Stationary\n"
     ]
    }
   ],
   "source": [
    "print('Ratio is Non Stationary')"
   ]
  },
  {
   "cell_type": "code",
   "execution_count": 57,
   "id": "70baca79",
   "metadata": {},
   "outputs": [],
   "source": [
    "ratio2= closing_prices_googl/closing_prices_aapl"
   ]
  },
  {
   "cell_type": "code",
   "execution_count": 58,
   "id": "8432f376",
   "metadata": {},
   "outputs": [
    {
     "data": {
      "text/plain": [
       "(-1.5487602189652925,\n",
       " 0.5092674235726732,\n",
       " 0,\n",
       " 104,\n",
       " {'1%': -3.4948504603223145,\n",
       "  '5%': -2.889758398668639,\n",
       "  '10%': -2.5818220155325444},\n",
       " -547.8204051642905)"
      ]
     },
     "execution_count": 58,
     "metadata": {},
     "output_type": "execute_result"
    }
   ],
   "source": [
    "adfuller(ratio2)"
   ]
  },
  {
   "cell_type": "code",
   "execution_count": 59,
   "id": "7d3067aa",
   "metadata": {},
   "outputs": [
    {
     "name": "stdout",
     "output_type": "stream",
     "text": [
      "Ratio is Non Stationary\n"
     ]
    }
   ],
   "source": [
    "print('Ratio is Non Stationary')"
   ]
  },
  {
   "cell_type": "code",
   "execution_count": 118,
   "id": "bf586432",
   "metadata": {},
   "outputs": [],
   "source": [
    "import matplotlib.pyplot as plt"
   ]
  },
  {
   "cell_type": "code",
   "execution_count": 119,
   "id": "71056072",
   "metadata": {},
   "outputs": [],
   "source": [
    "aapl= yf.Ticker('AAPL')\n",
    "googl= yf.Ticker('GOOGL')"
   ]
  },
  {
   "cell_type": "code",
   "execution_count": 120,
   "id": "ec4b1e0e",
   "metadata": {},
   "outputs": [
    {
     "name": "stdout",
     "output_type": "stream",
     "text": [
      "[*********************100%***********************]  1 of 1 completed\n"
     ]
    }
   ],
   "source": [
    "aapl_info= yf.download('AAPL', start='2020-01-01', end='2022-12-31')"
   ]
  },
  {
   "cell_type": "code",
   "execution_count": 121,
   "id": "9cfb2079",
   "metadata": {},
   "outputs": [
    {
     "name": "stdout",
     "output_type": "stream",
     "text": [
      "[*********************100%***********************]  1 of 1 completed\n"
     ]
    }
   ],
   "source": [
    "googl_info= yf.download('GOOGL', start='2020-01-01', end='2022-12-31')"
   ]
  },
  {
   "cell_type": "code",
   "execution_count": 122,
   "id": "4f22e2f8",
   "metadata": {},
   "outputs": [],
   "source": [
    "aapl_close= aapl_info['Close']"
   ]
  },
  {
   "cell_type": "code",
   "execution_count": 123,
   "id": "13a1d2d9",
   "metadata": {},
   "outputs": [],
   "source": [
    "googl_close= googl_info['Close']"
   ]
  },
  {
   "cell_type": "code",
   "execution_count": 124,
   "id": "6577b7c6",
   "metadata": {},
   "outputs": [
    {
     "data": {
      "text/plain": [
       "Date\n",
       "2020-01-02    1.097225\n",
       "2020-01-03    1.092272\n",
       "2020-01-06    1.072392\n",
       "2020-01-07    1.069414\n",
       "2020-01-08    1.078937\n",
       "                ...   \n",
       "2022-12-23    1.477754\n",
       "2022-12-27    1.487928\n",
       "2022-12-28    1.465241\n",
       "2022-12-29    1.465348\n",
       "2022-12-30    1.472628\n",
       "Name: Close, Length: 756, dtype: float64"
      ]
     },
     "execution_count": 124,
     "metadata": {},
     "output_type": "execute_result"
    }
   ],
   "source": [
    "ratio= aapl_close/googl_close\n",
    "ratio\n"
   ]
  },
  {
   "cell_type": "code",
   "execution_count": 125,
   "id": "5795047a",
   "metadata": {},
   "outputs": [],
   "source": [
    "mean= np.mean(ratio)\n",
    "std= np.std(ratio)\n"
   ]
  },
  {
   "cell_type": "code",
   "execution_count": 126,
   "id": "392cde82",
   "metadata": {},
   "outputs": [],
   "source": [
    "z_scores= (ratio-mean)/std"
   ]
  },
  {
   "cell_type": "code",
   "execution_count": 127,
   "id": "7b8098c3",
   "metadata": {},
   "outputs": [
    {
     "data": {
      "text/plain": [
       "Date\n",
       "2020-01-02   -0.981779\n",
       "2020-01-03   -1.011218\n",
       "2020-01-06   -1.129373\n",
       "2020-01-07   -1.147071\n",
       "2020-01-08   -1.090470\n",
       "                ...   \n",
       "2022-12-23    1.279835\n",
       "2022-12-27    1.340300\n",
       "2022-12-28    1.205464\n",
       "2022-12-29    1.206100\n",
       "2022-12-30    1.249370\n",
       "Name: Close, Length: 756, dtype: float64"
      ]
     },
     "execution_count": 127,
     "metadata": {},
     "output_type": "execute_result"
    }
   ],
   "source": [
    "z_scores"
   ]
  },
  {
   "cell_type": "code",
   "execution_count": 128,
   "id": "4b0f0a27",
   "metadata": {},
   "outputs": [],
   "source": [
    "mean_zc= np.mean(z_scores)\n",
    "std_zc= np.std(z_scores)"
   ]
  },
  {
   "cell_type": "code",
   "execution_count": 140,
   "id": "7ebf7ef1",
   "metadata": {},
   "outputs": [
    {
     "data": {
      "text/plain": [
       "<function matplotlib.pyplot.show(close=None, block=None)>"
      ]
     },
     "execution_count": 140,
     "metadata": {},
     "output_type": "execute_result"
    },
    {
     "data": {
      "image/png": "[encoded data removed]",
      "text/plain": [
       "<Figure size 640x480 with 1 Axes>"
      ]
     },
     "metadata": {},
     "output_type": "display_data"
    }
   ],
   "source": [
    "plt.plot(z_scores, marker='o', linestyle='-', color='b')\n",
    "plt.axhline(mean_zc, linestyle='--', color='r', label='Mean')\n",
    "plt.axhline(mean_zc + 2*std_zc, linestyle='-', color='g', label='Mean + 2*std')\n",
    "plt.axhline(mean_zc - 2*std_zc, linestyle=':', color='g', label='Mean - 2*std')\n",
    "plt.xlabel('Time')\n",
    "plt.ylabel('Z-score')\n",
    "plt.title(f'Z-scores of {aapl}/{googl} Close Data')\n",
    "plt.legend()\n",
    "plt.show"
   ]
  },
  {
   "cell_type": "code",
   "execution_count": 141,
   "id": "d451880e",
   "metadata": {},
   "outputs": [],
   "source": [
    "jnj= yf.Ticker('JNJ')\n",
    "v= yf.Ticker('V')"
   ]
  },
  {
   "cell_type": "code",
   "execution_count": 142,
   "id": "625c238c",
   "metadata": {},
   "outputs": [
    {
     "name": "stdout",
     "output_type": "stream",
     "text": [
      "[*********************100%***********************]  1 of 1 completed\n"
     ]
    }
   ],
   "source": [
    "jnj_info= yf.download('JNJ', start='2022-01-01', end='2022-12-31')"
   ]
  },
  {
   "cell_type": "code",
   "execution_count": 143,
   "id": "3eed2531",
   "metadata": {},
   "outputs": [
    {
     "name": "stdout",
     "output_type": "stream",
     "text": [
      "[*********************100%***********************]  1 of 1 completed\n"
     ]
    }
   ],
   "source": [
    "v_info= yf.download('V', start='2022-01-01', end='2022-12-31')"
   ]
  },
  {
   "cell_type": "code",
   "execution_count": 144,
   "id": "fc58f9aa",
   "metadata": {},
   "outputs": [],
   "source": [
    "close_jnj= jnj_info['Close']\n",
    "close_v= v_info['Close']"
   ]
  },
  {
   "cell_type": "code",
   "execution_count": 145,
   "id": "b0365271",
   "metadata": {},
   "outputs": [],
   "source": [
    "ratio= close_jnj/close_v"
   ]
  },
  {
   "cell_type": "code",
   "execution_count": 146,
   "id": "4802c992",
   "metadata": {},
   "outputs": [],
   "source": [
    "mean= np.mean(ratio)\n",
    "std= np.std(ratio)"
   ]
  },
  {
   "cell_type": "code",
   "execution_count": 147,
   "id": "b756bbb0",
   "metadata": {},
   "outputs": [],
   "source": [
    "z_scores= (ratio-mean)/std"
   ]
  },
  {
   "cell_type": "code",
   "execution_count": 148,
   "id": "5a283bb9",
   "metadata": {},
   "outputs": [
    {
     "data": {
      "text/plain": [
       "Date\n",
       "2022-01-03   -1.323592\n",
       "2022-01-04   -1.446213\n",
       "2022-01-05   -1.147372\n",
       "2022-01-06   -1.186280\n",
       "2022-01-07   -0.736606\n",
       "                ...   \n",
       "2022-12-23    0.575423\n",
       "2022-12-27    0.528473\n",
       "2022-12-28    0.565300\n",
       "2022-12-29    0.383354\n",
       "2022-12-30    0.315095\n",
       "Name: Close, Length: 251, dtype: float64"
      ]
     },
     "execution_count": 148,
     "metadata": {},
     "output_type": "execute_result"
    }
   ],
   "source": [
    "z_scores"
   ]
  },
  {
   "cell_type": "code",
   "execution_count": 149,
   "id": "59f870d8",
   "metadata": {},
   "outputs": [],
   "source": [
    "mean_zc2= np.mean(z_scores)\n",
    "std_zc2= np.std(z_scores)"
   ]
  },
  {
   "cell_type": "code",
   "execution_count": 150,
   "id": "8f877ada",
   "metadata": {},
   "outputs": [
    {
     "data": {
      "text/plain": [
       "<function matplotlib.pyplot.show(close=None, block=None)>"
      ]
     },
     "execution_count": 150,
     "metadata": {},
     "output_type": "execute_result"
    },
    {
     "data": {
      "image/png": "[encoded data removed]",
      "text/plain": [
       "<Figure size 640x480 with 1 Axes>"
      ]
     },
     "metadata": {},
     "output_type": "display_data"
    }
   ],
   "source": [
    "plt.plot(z_scores, linestyle='-', color='b')\n",
    "plt.axhline(mean_zc2, linestyle='-.', color='g', label='Mean')\n",
    "plt.axhline(mean_zc2+2*std_zc2, linestyle='--', color='r', label='Mean+2*Std')\n",
    "plt.axhline(mean_zc2-2*std_zc2, linestyle=':', color='y', label='Mean-2*Std')\n",
    "plt.xlabel('Time')\n",
    "plt.ylabel('Z-Scores')\n",
    "plt.title(f'Z-scores of AMZN/AMD Close Prices ')\n",
    "plt.legend()\n",
    "plt.show\n",
    "\n",
    "\n"
   ]
  },
  {
   "cell_type": "code",
   "execution_count": 71,
   "id": "768182e0",
   "metadata": {},
   "outputs": [
    {
     "name": "stdout",
     "output_type": "stream",
     "text": [
      "[*********************100%***********************]  1 of 1 completed\n"
     ]
    }
   ],
   "source": [
    "amzn_info= yf.download('AMZN', start='2022-05-01', end='2023-04-30')"
   ]
  },
  {
   "cell_type": "code",
   "execution_count": 72,
   "id": "a3de0799",
   "metadata": {},
   "outputs": [],
   "source": [
    "amzn_info['Daily_Return'] = amzn_info['Close'].pct_change()"
   ]
  },
  {
   "cell_type": "code",
   "execution_count": 73,
   "id": "369dae7c",
   "metadata": {},
   "outputs": [],
   "source": [
    "avg_daily_return = amzn_info['Daily_Return'].mean()\n",
    "std_daily_return = amzn_info['Daily_Return'].std()"
   ]
  },
  {
   "cell_type": "code",
   "execution_count": 74,
   "id": "8330677e",
   "metadata": {},
   "outputs": [],
   "source": [
    "risk_free_rate = 0.0"
   ]
  },
  {
   "cell_type": "code",
   "execution_count": 75,
   "id": "8a9c0a54",
   "metadata": {},
   "outputs": [],
   "source": [
    "sharpe_ratio= (avg_daily_return-risk_free_rate)/std_daily_return"
   ]
  },
  {
   "cell_type": "code",
   "execution_count": 76,
   "id": "becb35f2",
   "metadata": {},
   "outputs": [
    {
     "data": {
      "text/plain": [
       "-0.008693294904519623"
      ]
     },
     "execution_count": 76,
     "metadata": {},
     "output_type": "execute_result"
    }
   ],
   "source": [
    "sharpe_ratio"
   ]
  },
  {
   "cell_type": "code",
   "execution_count": 77,
   "id": "425584c7",
   "metadata": {},
   "outputs": [],
   "source": [
    "#Sharpe Ratio is negative so this stock is in loss"
   ]
  },
  {
   "cell_type": "code",
   "execution_count": 78,
   "id": "4825957d",
   "metadata": {},
   "outputs": [],
   "source": [
    "amzn= yf.Ticker('AMZN').history(period='2y')"
   ]
  },
  {
   "cell_type": "code",
   "execution_count": 79,
   "id": "9eec3508",
   "metadata": {},
   "outputs": [],
   "source": [
    "amzn_close= amzn.Close"
   ]
  },
  {
   "cell_type": "code",
   "execution_count": 80,
   "id": "e21486f5",
   "metadata": {},
   "outputs": [],
   "source": [
    "amzn['MA_15'] = amzn['Close'].rolling(window=15).mean()\n",
    "amzn['MA_50'] = amzn['Close'].rolling(window=50).mean()"
   ]
  },
  {
   "cell_type": "code",
   "execution_count": 81,
   "id": "20cf48fe",
   "metadata": {},
   "outputs": [
    {
     "data": {
      "text/plain": [
       "Date\n",
       "2021-05-27 00:00:00-04:00           NaN\n",
       "2021-05-28 00:00:00-04:00           NaN\n",
       "2021-06-01 00:00:00-04:00           NaN\n",
       "2021-06-02 00:00:00-04:00           NaN\n",
       "2021-06-03 00:00:00-04:00           NaN\n",
       "                                ...    \n",
       "2023-05-22 00:00:00-04:00    110.102001\n",
       "2023-05-23 00:00:00-04:00    110.859334\n",
       "2023-05-24 00:00:00-04:00    111.732668\n",
       "2023-05-25 00:00:00-04:00    112.466001\n",
       "2023-05-26 00:00:00-04:00    113.429334\n",
       "Name: MA_15, Length: 504, dtype: float64"
      ]
     },
     "execution_count": 81,
     "metadata": {},
     "output_type": "execute_result"
    }
   ],
   "source": [
    "amzn['MA_15']"
   ]
  },
  {
   "cell_type": "code",
   "execution_count": 82,
   "id": "8595d456",
   "metadata": {},
   "outputs": [],
   "source": [
    "golden_cross_dates = amzn[(amzn['MA_15'] > amzn['MA_50']) & (amzn['MA_15'].shift(1) < amzn['MA_50'].shift(1))]\n",
    "death_cross_dates = amzn[(amzn['MA_15'] <amzn['MA_50']) & (amzn['MA_15'].shift(1) > amzn['MA_50'].shift(1))]"
   ]
  },
  {
   "cell_type": "code",
   "execution_count": 83,
   "id": "42328f7b",
   "metadata": {},
   "outputs": [
    {
     "data": {
      "text/html": [
       "<div>\n",
       "<style scoped>\n",
       "    .dataframe tbody tr th:only-of-type {\n",
       "        vertical-align: middle;\n",
       "    }\n",
       "\n",
       "    .dataframe tbody tr th {\n",
       "        vertical-align: top;\n",
       "    }\n",
       "\n",
       "    .dataframe thead th {\n",
       "        text-align: right;\n",
       "    }\n",
       "</style>\n",
       "<table border=\"1\" class=\"dataframe\">\n",
       "  <thead>\n",
       "    <tr style=\"text-align: right;\">\n",
       "      <th></th>\n",
       "      <th>Open</th>\n",
       "      <th>High</th>\n",
       "      <th>Low</th>\n",
       "      <th>Close</th>\n",
       "      <th>Volume</th>\n",
       "      <th>Dividends</th>\n",
       "      <th>Stock Splits</th>\n",
       "      <th>MA_15</th>\n",
       "      <th>MA_50</th>\n",
       "    </tr>\n",
       "    <tr>\n",
       "      <th>Date</th>\n",
       "      <th></th>\n",
       "      <th></th>\n",
       "      <th></th>\n",
       "      <th></th>\n",
       "      <th></th>\n",
       "      <th></th>\n",
       "      <th></th>\n",
       "      <th></th>\n",
       "      <th></th>\n",
       "    </tr>\n",
       "  </thead>\n",
       "  <tbody>\n",
       "    <tr>\n",
       "      <th>2021-09-16 00:00:00-04:00</th>\n",
       "      <td>172.998001</td>\n",
       "      <td>174.627502</td>\n",
       "      <td>172.307007</td>\n",
       "      <td>174.412003</td>\n",
       "      <td>51672000</td>\n",
       "      <td>0.0</td>\n",
       "      <td>0.0</td>\n",
       "      <td>172.791534</td>\n",
       "      <td>172.783521</td>\n",
       "    </tr>\n",
       "    <tr>\n",
       "      <th>2021-11-03 00:00:00-04:00</th>\n",
       "      <td>165.449997</td>\n",
       "      <td>169.746002</td>\n",
       "      <td>164.876007</td>\n",
       "      <td>169.199997</td>\n",
       "      <td>67944000</td>\n",
       "      <td>0.0</td>\n",
       "      <td>0.0</td>\n",
       "      <td>169.027267</td>\n",
       "      <td>168.861201</td>\n",
       "    </tr>\n",
       "    <tr>\n",
       "      <th>2022-03-25 00:00:00-04:00</th>\n",
       "      <td>164.000000</td>\n",
       "      <td>165.368500</td>\n",
       "      <td>162.250000</td>\n",
       "      <td>164.773499</td>\n",
       "      <td>49032000</td>\n",
       "      <td>0.0</td>\n",
       "      <td>0.0</td>\n",
       "      <td>152.274202</td>\n",
       "      <td>151.844200</td>\n",
       "    </tr>\n",
       "    <tr>\n",
       "      <th>2022-07-20 00:00:00-04:00</th>\n",
       "      <td>118.620003</td>\n",
       "      <td>123.480003</td>\n",
       "      <td>118.320000</td>\n",
       "      <td>122.769997</td>\n",
       "      <td>71268300</td>\n",
       "      <td>0.0</td>\n",
       "      <td>0.0</td>\n",
       "      <td>112.978667</td>\n",
       "      <td>112.114950</td>\n",
       "    </tr>\n",
       "    <tr>\n",
       "      <th>2023-01-23 00:00:00-05:00</th>\n",
       "      <td>97.559998</td>\n",
       "      <td>97.779999</td>\n",
       "      <td>95.860001</td>\n",
       "      <td>97.519997</td>\n",
       "      <td>76501100</td>\n",
       "      <td>0.0</td>\n",
       "      <td>0.0</td>\n",
       "      <td>91.322000</td>\n",
       "      <td>91.114400</td>\n",
       "    </tr>\n",
       "    <tr>\n",
       "      <th>2023-03-31 00:00:00-04:00</th>\n",
       "      <td>102.160004</td>\n",
       "      <td>103.489998</td>\n",
       "      <td>101.949997</td>\n",
       "      <td>103.290001</td>\n",
       "      <td>56750300</td>\n",
       "      <td>0.0</td>\n",
       "      <td>0.0</td>\n",
       "      <td>98.478666</td>\n",
       "      <td>97.981200</td>\n",
       "    </tr>\n",
       "  </tbody>\n",
       "</table>\n",
       "</div>"
      ],
      "text/plain": [
       "                                 Open        High         Low       Close  \\\n",
       "Date                                                                        \n",
       "2021-09-16 00:00:00-04:00  172.998001  174.627502  172.307007  174.412003   \n",
       "2021-11-03 00:00:00-04:00  165.449997  169.746002  164.876007  169.199997   \n",
       "2022-03-25 00:00:00-04:00  164.000000  165.368500  162.250000  164.773499   \n",
       "2022-07-20 00:00:00-04:00  118.620003  123.480003  118.320000  122.769997   \n",
       "2023-01-23 00:00:00-05:00   97.559998   97.779999   95.860001   97.519997   \n",
       "2023-03-31 00:00:00-04:00  102.160004  103.489998  101.949997  103.290001   \n",
       "\n",
       "                             Volume  Dividends  Stock Splits       MA_15  \\\n",
       "Date                                                                       \n",
       "2021-09-16 00:00:00-04:00  51672000        0.0           0.0  172.791534   \n",
       "2021-11-03 00:00:00-04:00  67944000        0.0           0.0  169.027267   \n",
       "2022-03-25 00:00:00-04:00  49032000        0.0           0.0  152.274202   \n",
       "2022-07-20 00:00:00-04:00  71268300        0.0           0.0  112.978667   \n",
       "2023-01-23 00:00:00-05:00  76501100        0.0           0.0   91.322000   \n",
       "2023-03-31 00:00:00-04:00  56750300        0.0           0.0   98.478666   \n",
       "\n",
       "                                MA_50  \n",
       "Date                                   \n",
       "2021-09-16 00:00:00-04:00  172.783521  \n",
       "2021-11-03 00:00:00-04:00  168.861201  \n",
       "2022-03-25 00:00:00-04:00  151.844200  \n",
       "2022-07-20 00:00:00-04:00  112.114950  \n",
       "2023-01-23 00:00:00-05:00   91.114400  \n",
       "2023-03-31 00:00:00-04:00   97.981200  "
      ]
     },
     "execution_count": 83,
     "metadata": {},
     "output_type": "execute_result"
    }
   ],
   "source": [
    "golden_cross_dates"
   ]
  },
  {
   "cell_type": "code",
   "execution_count": 84,
   "id": "26c19f6f",
   "metadata": {},
   "outputs": [
    {
     "data": {
      "text/html": [
       "<div>\n",
       "<style scoped>\n",
       "    .dataframe tbody tr th:only-of-type {\n",
       "        vertical-align: middle;\n",
       "    }\n",
       "\n",
       "    .dataframe tbody tr th {\n",
       "        vertical-align: top;\n",
       "    }\n",
       "\n",
       "    .dataframe thead th {\n",
       "        text-align: right;\n",
       "    }\n",
       "</style>\n",
       "<table border=\"1\" class=\"dataframe\">\n",
       "  <thead>\n",
       "    <tr style=\"text-align: right;\">\n",
       "      <th></th>\n",
       "      <th>Open</th>\n",
       "      <th>High</th>\n",
       "      <th>Low</th>\n",
       "      <th>Close</th>\n",
       "      <th>Volume</th>\n",
       "      <th>Dividends</th>\n",
       "      <th>Stock Splits</th>\n",
       "      <th>MA_15</th>\n",
       "      <th>MA_50</th>\n",
       "    </tr>\n",
       "    <tr>\n",
       "      <th>Date</th>\n",
       "      <th></th>\n",
       "      <th></th>\n",
       "      <th></th>\n",
       "      <th></th>\n",
       "      <th></th>\n",
       "      <th></th>\n",
       "      <th></th>\n",
       "      <th></th>\n",
       "      <th></th>\n",
       "    </tr>\n",
       "  </thead>\n",
       "  <tbody>\n",
       "    <tr>\n",
       "      <th>2021-08-11 00:00:00-04:00</th>\n",
       "      <td>166.572495</td>\n",
       "      <td>166.884995</td>\n",
       "      <td>163.889496</td>\n",
       "      <td>164.605499</td>\n",
       "      <td>58944000</td>\n",
       "      <td>0.0</td>\n",
       "      <td>0.0</td>\n",
       "      <td>173.022467</td>\n",
       "      <td>173.535469</td>\n",
       "    </tr>\n",
       "    <tr>\n",
       "      <th>2021-10-01 00:00:00-04:00</th>\n",
       "      <td>164.450500</td>\n",
       "      <td>165.458496</td>\n",
       "      <td>162.796997</td>\n",
       "      <td>164.162994</td>\n",
       "      <td>56712000</td>\n",
       "      <td>0.0</td>\n",
       "      <td>0.0</td>\n",
       "      <td>169.486101</td>\n",
       "      <td>169.678971</td>\n",
       "    </tr>\n",
       "    <tr>\n",
       "      <th>2021-12-20 00:00:00-05:00</th>\n",
       "      <td>166.850006</td>\n",
       "      <td>167.874496</td>\n",
       "      <td>165.600006</td>\n",
       "      <td>167.078995</td>\n",
       "      <td>57372000</td>\n",
       "      <td>0.0</td>\n",
       "      <td>0.0</td>\n",
       "      <td>171.794169</td>\n",
       "      <td>172.372401</td>\n",
       "    </tr>\n",
       "    <tr>\n",
       "      <th>2022-04-26 00:00:00-04:00</th>\n",
       "      <td>144.800003</td>\n",
       "      <td>144.856003</td>\n",
       "      <td>138.929504</td>\n",
       "      <td>139.391006</td>\n",
       "      <td>77530000</td>\n",
       "      <td>0.0</td>\n",
       "      <td>0.0</td>\n",
       "      <td>152.481500</td>\n",
       "      <td>153.966920</td>\n",
       "    </tr>\n",
       "    <tr>\n",
       "      <th>2022-09-16 00:00:00-04:00</th>\n",
       "      <td>122.779999</td>\n",
       "      <td>123.870003</td>\n",
       "      <td>120.699997</td>\n",
       "      <td>123.529999</td>\n",
       "      <td>115667800</td>\n",
       "      <td>0.0</td>\n",
       "      <td>0.0</td>\n",
       "      <td>128.778666</td>\n",
       "      <td>129.275600</td>\n",
       "    </tr>\n",
       "    <tr>\n",
       "      <th>2023-03-09 00:00:00-05:00</th>\n",
       "      <td>93.680000</td>\n",
       "      <td>96.209999</td>\n",
       "      <td>92.180000</td>\n",
       "      <td>92.250000</td>\n",
       "      <td>56218700</td>\n",
       "      <td>0.0</td>\n",
       "      <td>0.0</td>\n",
       "      <td>94.380000</td>\n",
       "      <td>95.105000</td>\n",
       "    </tr>\n",
       "  </tbody>\n",
       "</table>\n",
       "</div>"
      ],
      "text/plain": [
       "                                 Open        High         Low       Close  \\\n",
       "Date                                                                        \n",
       "2021-08-11 00:00:00-04:00  166.572495  166.884995  163.889496  164.605499   \n",
       "2021-10-01 00:00:00-04:00  164.450500  165.458496  162.796997  164.162994   \n",
       "2021-12-20 00:00:00-05:00  166.850006  167.874496  165.600006  167.078995   \n",
       "2022-04-26 00:00:00-04:00  144.800003  144.856003  138.929504  139.391006   \n",
       "2022-09-16 00:00:00-04:00  122.779999  123.870003  120.699997  123.529999   \n",
       "2023-03-09 00:00:00-05:00   93.680000   96.209999   92.180000   92.250000   \n",
       "\n",
       "                              Volume  Dividends  Stock Splits       MA_15  \\\n",
       "Date                                                                        \n",
       "2021-08-11 00:00:00-04:00   58944000        0.0           0.0  173.022467   \n",
       "2021-10-01 00:00:00-04:00   56712000        0.0           0.0  169.486101   \n",
       "2021-12-20 00:00:00-05:00   57372000        0.0           0.0  171.794169   \n",
       "2022-04-26 00:00:00-04:00   77530000        0.0           0.0  152.481500   \n",
       "2022-09-16 00:00:00-04:00  115667800        0.0           0.0  128.778666   \n",
       "2023-03-09 00:00:00-05:00   56218700        0.0           0.0   94.380000   \n",
       "\n",
       "                                MA_50  \n",
       "Date                                   \n",
       "2021-08-11 00:00:00-04:00  173.535469  \n",
       "2021-10-01 00:00:00-04:00  169.678971  \n",
       "2021-12-20 00:00:00-05:00  172.372401  \n",
       "2022-04-26 00:00:00-04:00  153.966920  \n",
       "2022-09-16 00:00:00-04:00  129.275600  \n",
       "2023-03-09 00:00:00-05:00   95.105000  "
      ]
     },
     "execution_count": 84,
     "metadata": {},
     "output_type": "execute_result"
    }
   ],
   "source": [
    "death_cross_dates"
   ]
  },
  {
   "cell_type": "code",
   "execution_count": null,
   "id": "be1c423e",
   "metadata": {},
   "outputs": [],
   "source": []
  }
 ],
 "metadata": {
  "kernelspec": {
   "display_name": "Python 3 (ipykernel)",
   "language": "python",
   "name": "python3"
  },
  "language_info": {
   "codemirror_mode": {
    "name": "ipython",
    "version": 3
   },
   "file_extension": ".py",
   "mimetype": "text/x-python",
   "name": "python",
   "nbconvert_exporter": "python",
   "pygments_lexer": "ipython3",
   "version": "3.11.2"
  }
 },
 "nbformat": 4,
 "nbformat_minor": 5
}
